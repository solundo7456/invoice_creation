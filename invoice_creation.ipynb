{
  "nbformat": 4,
  "nbformat_minor": 0,
  "metadata": {
    "colab": {
      "provenance": [],
      "authorship_tag": "ABX9TyO1CLvUlYI0ohJeK3WJI4aR",
      "include_colab_link": true
    },
    "kernelspec": {
      "name": "python3",
      "display_name": "Python 3"
    },
    "language_info": {
      "name": "python"
    }
  },
  "cells": [
    {
      "cell_type": "markdown",
      "metadata": {
        "id": "view-in-github",
        "colab_type": "text"
      },
      "source": [
        "<a href=\"https://colab.research.google.com/github/solundo7456/Churn_EDA/blob/main/Untitled18.ipynb\" target=\"_parent\"><img src=\"https://colab.research.google.com/assets/colab-badge.svg\" alt=\"Open In Colab\"/></a>"
      ]
    },
    {
      "cell_type": "code",
      "execution_count": 3,
      "metadata": {
        "colab": {
          "base_uri": "https://localhost:8080/"
        },
        "id": "51DnvlL_MROS",
        "outputId": "6e3ff9b5-91c2-4a6d-cbef-ad5ff0894df9"
      },
      "outputs": [
        {
          "output_type": "stream",
          "name": "stdout",
          "text": [
            "Invoices generated: INV-007.pdf, INV-008.pdf\n"
          ]
        }
      ],
      "source": [
        "from reportlab.lib.pagesizes import A4\n",
        "from reportlab.lib import colors\n",
        "from reportlab.lib.styles import getSampleStyleSheet, ParagraphStyle\n",
        "from reportlab.platypus import SimpleDocTemplate, Paragraph, Spacer, Table, TableStyle\n",
        "from reportlab.lib.units import cm\n",
        "\n",
        "def create_invoice(filename, invoice_no, client, cost_code, scope, items, net, vat, gross, style_type=\"corporate\"):\n",
        "    doc = SimpleDocTemplate(filename, pagesize=A4)\n",
        "    elements = []\n",
        "\n",
        "    styles = getSampleStyleSheet()\n",
        "    normal = styles[\"Normal\"]\n",
        "    heading = styles[\"Heading1\"]\n",
        "\n",
        "    # Different styles\n",
        "    if style_type == \"corporate\":\n",
        "        header_color = colors.HexColor(\"#0B3D91\")  # dark blue\n",
        "        table_header_bg = colors.HexColor(\"#DCE6F1\")\n",
        "    else:  # modern light\n",
        "        header_color = colors.HexColor(\"#2E8B57\")  # green\n",
        "        table_header_bg = colors.HexColor(\"#E8F5E9\")\n",
        "\n",
        "    # Header\n",
        "    elements.append(Paragraph(\"<b>Your Company Name</b><br/>123 Business Street, Dublin, Ireland<br/>info@company.com | +353 123 456 789\", normal))\n",
        "    elements.append(Spacer(1, 12))\n",
        "    elements.append(Paragraph(f\"<font size=16 color='{header_color}'>Invoice {invoice_no}</font>\", heading))\n",
        "    elements.append(Spacer(1, 12))\n",
        "    elements.append(Paragraph(f\"<b>Client:</b> {client}\", normal))\n",
        "    elements.append(Paragraph(f\"<b>Cost Code:</b> {cost_code}\", normal))\n",
        "    elements.append(Paragraph(f\"<b>Scope:</b> {scope}\", normal))\n",
        "    elements.append(Spacer(1, 12))\n",
        "\n",
        "    # Table\n",
        "    data = [[\"Item\", \"Quantity\", \"Unit\", \"Cost Price (€)\", \"Sell Price (€)\"]] + items\n",
        "    table = Table(data, colWidths=[6*cm, 2*cm, 2*cm, 3.5*cm, 3.5*cm])\n",
        "    table.setStyle(TableStyle([\n",
        "        (\"BACKGROUND\", (0, 0), (-1, 0), table_header_bg),\n",
        "        (\"TEXTCOLOR\", (0, 0), (-1, 0), colors.black),\n",
        "        (\"ALIGN\", (1, 1), (-1, -1), \"CENTER\"),\n",
        "        (\"GRID\", (0, 0), (-1, -1), 0.5, colors.grey),\n",
        "        (\"FONTNAME\", (0, 0), (-1, 0), \"Helvetica-Bold\"),\n",
        "        (\"BOTTOMPADDING\", (0, 0), (-1, 0), 8),\n",
        "    ]))\n",
        "    elements.append(table)\n",
        "    elements.append(Spacer(1, 12))\n",
        "\n",
        "    # Totals\n",
        "    totals_data = [\n",
        "        [\"Net Value\", f\"€{net:,.2f}\"],\n",
        "        [\"VAT @23%\", f\"€{vat:,.2f}\"],\n",
        "        [\"Gross\", f\"€{gross:,.2f}\"],\n",
        "    ]\n",
        "    totals_table = Table(totals_data, colWidths=[8*cm, 4*cm])\n",
        "    totals_table.setStyle(TableStyle([\n",
        "        (\"ALIGN\", (1, 0), (-1, -1), \"RIGHT\"),\n",
        "        (\"FONTNAME\", (0, 0), (-1, -2), \"Helvetica\"),\n",
        "        (\"FONTNAME\", (0, -1), (-1, -1), \"Helvetica-Bold\"),\n",
        "        (\"BACKGROUND\", (0, -1), (-1, -1), table_header_bg),\n",
        "        (\"GRID\", (0, 0), (-1, -1), 0.5, colors.grey),\n",
        "    ]))\n",
        "    elements.append(totals_table)\n",
        "    elements.append(Spacer(1, 20))\n",
        "\n",
        "    # Footer\n",
        "    elements.append(Paragraph(\"<b>Payment Terms:</b> Payment due within 30 days.\", normal))\n",
        "    elements.append(Paragraph(\"<b>Bank Details:</b> IBAN IE29AIBK93115212345678 | BIC AIBKIE2D\", normal))\n",
        "    elements.append(Spacer(1, 12))\n",
        "    elements.append(Paragraph(\"<i>Thank you for your business!</i>\", normal))\n",
        "\n",
        "    doc.build(elements)\n",
        "\n",
        "# --- Generate INV-007 (corporate style)\n",
        "create_invoice(\n",
        "    \"INV-007.pdf\",\n",
        "    \"INV-007\",\n",
        "    \"JoineryCraft Ltd.\",\n",
        "    \"5003 – Joinery & Finishes\",\n",
        "    \"Plumbing & Drainage\",\n",
        "    [[\"Plumbing & Drainage\", \"1\", \"sum\", \"€110,281.68\", \"€122,535.20\"]],\n",
        "    110281.68, 25365.79, 135647.47,\n",
        "    style_type=\"corporate\"\n",
        ")\n",
        "\n",
        "# --- Generate INV-008 (modern light style)\n",
        "create_invoice(\n",
        "    \"INV-008.pdf\",\n",
        "    \"INV-008\",\n",
        "    \"PaintPro Decorators Ltd.\",\n",
        "    \"5004 – Decoration & Final Touches\",\n",
        "    \"Painting & Decoration\",\n",
        "    [[\"Painting & Decoration\", \"10,000\", \"m²\", \"€115,733.07\", \"€128,592.30\"]],\n",
        "    115733.07, 26598.10, 142331.17,\n",
        "    style_type=\"modern\"\n",
        ")\n",
        "\n",
        "print(\"Invoices generated: INV-007.pdf, INV-008.pdf\")\n",
        "\n"
      ]
    },
    {
      "cell_type": "code",
      "metadata": {
        "colab": {
          "base_uri": "https://localhost:8080/"
        },
        "id": "c47f01b0",
        "outputId": "0c25dba4-e610-431a-ceb7-63ac544f9631"
      },
      "source": [
        "%pip install reportlab"
      ],
      "execution_count": 2,
      "outputs": [
        {
          "output_type": "stream",
          "name": "stdout",
          "text": [
            "Collecting reportlab\n",
            "  Downloading reportlab-4.4.3-py3-none-any.whl.metadata (1.7 kB)\n",
            "Requirement already satisfied: pillow>=9.0.0 in /usr/local/lib/python3.12/dist-packages (from reportlab) (11.3.0)\n",
            "Requirement already satisfied: charset-normalizer in /usr/local/lib/python3.12/dist-packages (from reportlab) (3.4.3)\n",
            "Downloading reportlab-4.4.3-py3-none-any.whl (2.0 MB)\n",
            "\u001b[2K   \u001b[90m━━━━━━━━━━━━━━━━━━━━━━━━━━━━━━━━━━━━━━━━\u001b[0m \u001b[32m2.0/2.0 MB\u001b[0m \u001b[31m19.5 MB/s\u001b[0m eta \u001b[36m0:00:00\u001b[0m\n",
            "\u001b[?25hInstalling collected packages: reportlab\n",
            "Successfully installed reportlab-4.4.3\n"
          ]
        }
      ]
    }
  ]
}
